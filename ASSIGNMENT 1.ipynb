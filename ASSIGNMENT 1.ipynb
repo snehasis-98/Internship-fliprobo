{
 "cells": [
  {
   "cell_type": "code",
   "execution_count": 1,
   "id": "a546887a",
   "metadata": {},
   "outputs": [
    {
     "name": "stdout",
     "output_type": "stream",
     "text": [
      "Python:Exercises::PHP:exercises:\n"
     ]
    }
   ],
   "source": [
    "# Question 1- Write a Python program to replace all occurrences of a space, comma, or dot with a colon.\n",
    "# Sample Text- 'Python Exercises, PHP exercises.'\n",
    "# Expected Output: Python:Exercises::PHP:exercises:\n",
    "# \n",
    "\n",
    "# In[2]:\n",
    "\n",
    "\n",
    "def replace_colon(text):\n",
    "    replacement = [' ', ',', '.']\n",
    "    for char in replacement:\n",
    "        text = text.replace(char, ':')\n",
    "    return text\n",
    "\n",
    "sample_text = 'Python Exercises, PHP exercises.'\n",
    "result = replace_colon(sample_text)\n",
    "print(result)\n"
   ]
  },
  {
   "cell_type": "code",
   "execution_count": 2,
   "id": "0d59a896",
   "metadata": {},
   "outputs": [
    {
     "name": "stdout",
     "output_type": "stream",
     "text": [
      "         SUMMARY\n",
      "0    hello world\n",
      "1           test\n",
      "2  four five six\n"
     ]
    }
   ],
   "source": [
    "# Question 2-  Create a dataframe using the dictionary below and remove everything (commas (,), !, XXXX, ;, etc.) from the columns except words.\n",
    "# Dictionary- {'SUMMARY' : ['hello, world!', 'XXXXX test', '123four, five:; six...']}\n",
    "# Expected output-\n",
    "# 0      hello world\n",
    "# 1             test\n",
    "# 2    four five six\n",
    "# \n",
    "\n",
    "# In[11]:\n",
    "\n",
    "\n",
    "import pandas as pd\n",
    "import re\n",
    "\n",
    "data = {'SUMMARY': ['hello, world!', 'XXXXX test', '123 four, five:; six...']}\n",
    "df = pd.DataFrame(data)\n",
    "\n",
    "def extract_words(text):\n",
    "    words = re.findall(r'\\b[A-Za-z]+\\b', text)  \n",
    "    modified_words = [word.replace('X', '') for word in words]  \n",
    "    return ' '.join(modified_words)\n",
    "\n",
    "df['SUMMARY'] = df['SUMMARY'].apply(extract_words)\n",
    "print(df)\n"
   ]
  },
  {
   "cell_type": "code",
   "execution_count": 3,
   "id": "7f3e19bd",
   "metadata": {},
   "outputs": [
    {
     "name": "stdout",
     "output_type": "stream",
     "text": [
      "['This', 'sample', 'string', 'with', 'words', 'various', 'lengths', 'like', 'hello', 'world', 'example']\n"
     ]
    }
   ],
   "source": [
    "# Question 3- Create a function in python to find all words that are at least 4 characters long in a string. The use of the re.compile() method is mandatory.\n",
    "\n",
    "# In[13]:\n",
    "\n",
    "\n",
    "import re\n",
    "\n",
    "def find_all_words(text):\n",
    "    pattern = re.compile(r'\\b\\w{4,}\\b') \n",
    "    words = pattern.findall(text) \n",
    "    return words\n",
    "\n",
    "\n",
    "text = \"This is a sample string with words of various lengths like hello, world and example.\"\n",
    "result = find_all_words(text)\n",
    "print(result)\n"
   ]
  },
  {
   "cell_type": "code",
   "execution_count": 4,
   "id": "977b4736",
   "metadata": {},
   "outputs": [
    {
     "name": "stdout",
     "output_type": "stream",
     "text": [
      "['This', 'with', 'words', 'like', 'hello', 'world', 'and']\n"
     ]
    }
   ],
   "source": [
    "\n",
    "# Question 4- Create a function in python to find all three, four, and five character words in a string. The use of the re.compile() method is mandatory.\n",
    "\n",
    "# In[14]:\n",
    "\n",
    "\n",
    "import re\n",
    "\n",
    "def find_specific_length_words(text):\n",
    "    pattern = re.compile(r'\\b\\w{3,5}\\b')  \n",
    "    specific_length = pattern.findall(text) \n",
    "    return specific_length\n",
    "\n",
    "\n",
    "text = \"This is a sample string with words of various lengths like hello, world and example.\"\n",
    "result = find_specific_length_words(text)\n",
    "print(result)\n"
   ]
  },
  {
   "cell_type": "code",
   "execution_count": 5,
   "id": "357fb3c7",
   "metadata": {},
   "outputs": [
    {
     "name": "stdout",
     "output_type": "stream",
     "text": [
      "['example.com', 'hr@fliprobo.com', 'github.com', 'Hello (Data Science World)', 'DataScientist']\n"
     ]
    }
   ],
   "source": [
    "# Question 5- Create a function in Python to remove the parenthesis in a list of strings. The use of the re.compile() method is mandatory.\n",
    "# Sample Text: [\"example (.com)\", \"hr@fliprobo (.com)\", \"github (.com)\", \"Hello (Data Science World)\", \"Data (Scientist)\"]\n",
    "# Expected Output:\n",
    "# example.com\n",
    "# hr@fliprobo.com\n",
    "# github.com\n",
    "# Hello Data Science World\n",
    "# \n",
    "\n",
    "# In[22]:\n",
    "\n",
    "\n",
    "import re\n",
    "\n",
    "def extract_domain(strings):\n",
    "    pattern = re.compile(r'\\b(\\w+)\\s*\\(((\\.*?)\\w+)\\)')  \n",
    "    domains = [pattern.sub(r'\\1\\2', string) for string in strings] \n",
    "    return domains\n",
    "\n",
    "sample_text = [\"example (.com)\", \"hr@fliprobo (.com)\", \"github (.com)\", \"Hello (Data Science World)\", \"Data (Scientist)\"]\n",
    "result = extract_domain(sample_text)\n",
    "print(result)\n"
   ]
  },
  {
   "cell_type": "code",
   "execution_count": 6,
   "id": "34d11344",
   "metadata": {},
   "outputs": [
    {
     "name": "stdout",
     "output_type": "stream",
     "text": [
      "[\"example\", \"hr@fliprobo\", \"github\", \"Hello\", \"Data\"]\n"
     ]
    }
   ],
   "source": [
    "# Question 6- Write a python program to remove the parenthesis area from the text stored in the text file using Regular Expression.\n",
    "# Sample Text: [\"example (.com)\", \"hr@fliprobo (.com)\", \"github (.com)\", \"Hello (Data Science World)\", \"Data (Scientist)\"]\n",
    "# Expected Output: [\"example\", \"hr@fliprobo\", \"github\", \"Hello\", \"Data\"]\n",
    "# Note- Store given sample text in the text file and then to remove the parenthesis area from the text.\n",
    "# \n",
    "\n",
    "# In[27]:\n",
    "\n",
    "\n",
    "import re\n",
    "\n",
    "\n",
    "text = '[\"example (.com)\", \"hr@fliprobo (.com)\", \"github (.com)\", \"Hello (Data Science World)\", \"Data (Scientist)\"]'\n",
    "\n",
    "def remove_parenthesis(text):\n",
    "    pattern = re.compile(r'\\s*\\([^)]*\\)')  \n",
    "    modified_text = pattern.sub('', text)  \n",
    "    return modified_text\n",
    "\n",
    "\n",
    "modified_text = remove_parenthesis(text)\n",
    "\n",
    "\n",
    "with open('sample_text.txt', 'w') as file:\n",
    "    file.write(modified_text)\n",
    "print(modified_text)\n"
   ]
  },
  {
   "cell_type": "code",
   "execution_count": 7,
   "id": "8d9b0422",
   "metadata": {},
   "outputs": [
    {
     "name": "stdout",
     "output_type": "stream",
     "text": [
      "['Importance', 'Of', 'Regular', 'Expressions', 'In', 'Python']\n"
     ]
    }
   ],
   "source": [
    "# Question 7- Write a regular expression in Python to split a string into uppercase letters.\n",
    "# Sample text: “ImportanceOfRegularExpressionsInPython”\n",
    "# Expected Output: [‘Importance’, ‘Of’, ‘Regular’, ‘Expression’, ‘In’, ‘Python’]\n",
    "# \n",
    "\n",
    "# In[29]:\n",
    "\n",
    "\n",
    "import re\n",
    "\n",
    "text = \"ImportanceOfRegularExpressionsInPython\"\n",
    "\n",
    "\n",
    "result = re.findall(r'[A-Z][a-z]*', text)\n",
    "\n",
    "print(result) \n"
   ]
  },
  {
   "cell_type": "code",
   "execution_count": null,
   "id": "d3dc52f8",
   "metadata": {},
   "outputs": [],
   "source": []
  }
 ],
 "metadata": {
  "kernelspec": {
   "display_name": "Python 3 (ipykernel)",
   "language": "python",
   "name": "python3"
  },
  "language_info": {
   "codemirror_mode": {
    "name": "ipython",
    "version": 3
   },
   "file_extension": ".py",
   "mimetype": "text/x-python",
   "name": "python",
   "nbconvert_exporter": "python",
   "pygments_lexer": "ipython3",
   "version": "3.10.9"
  }
 },
 "nbformat": 4,
 "nbformat_minor": 5
}
