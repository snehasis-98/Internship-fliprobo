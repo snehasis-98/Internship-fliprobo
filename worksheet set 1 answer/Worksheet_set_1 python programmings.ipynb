{
 "cells": [
  {
   "cell_type": "markdown",
   "id": "f1b410d4",
   "metadata": {},
   "source": [
    "Write a python program to find the factorial of a number"
   ]
  },
  {
   "cell_type": "code",
   "execution_count": 1,
   "id": "301cefba",
   "metadata": {},
   "outputs": [
    {
     "name": "stdout",
     "output_type": "stream",
     "text": [
      "Enter a number to find its factorial: 5\n",
      "The factorial of 5 is: 120\n"
     ]
    }
   ],
   "source": [
    "def factorial(n):\n",
    "    if n == 0 or n == 1:\n",
    "        return 1\n",
    "    else:\n",
    "        return n * factorial(n - 1)\n",
    "\n",
    "\n",
    "num = int(input(\"Enter a number to find its factorial: \"))\n",
    "\n",
    "\n",
    "if num < 0:\n",
    "    print(\"Factorial is not defined for negative numbers.\")\n",
    "else:\n",
    "    result = factorial(num)\n",
    "    print(f\"The factorial of {num} is: {result}\")\n",
    "\n"
   ]
  },
  {
   "cell_type": "markdown",
   "id": "b543d3e1",
   "metadata": {},
   "source": [
    "Write a python program to find whether a number is prime or composite."
   ]
  },
  {
   "cell_type": "code",
   "execution_count": 2,
   "id": "1a2dc61e",
   "metadata": {},
   "outputs": [
    {
     "name": "stdout",
     "output_type": "stream",
     "text": [
      "Enter a number: 7\n",
      "7 is a prime number\n"
     ]
    }
   ],
   "source": [
    "import math\n",
    "\n",
    "def is_prime(num):\n",
    "    \"\"\"Determines whether a given number is prime or composite.\n",
    "\n",
    "    Args:\n",
    "        num: The number to check.\n",
    "\n",
    "    Returns:\n",
    "        True if the number is prime, False otherwise.\n",
    "    \"\"\"\n",
    "\n",
    "    if num <= 1:\n",
    "        return False  \n",
    "\n",
    "    for i in range(2, int(math.sqrt(num)) + 1):\n",
    "        if num % i == 0:\n",
    "            return False\n",
    "\n",
    "    return True\n",
    "\n",
    "num = int(input(\"Enter a number: \"))\n",
    "\n",
    "if is_prime(num):\n",
    "    print(num, \"is a prime number\")\n",
    "else:\n",
    "    print(num, \"is a composite number\")"
   ]
  },
  {
   "cell_type": "markdown",
   "id": "3297e9f9",
   "metadata": {},
   "source": [
    "Write a python program to check whether a given string is palindrome or not."
   ]
  },
  {
   "cell_type": "code",
   "execution_count": 3,
   "id": "92fba649",
   "metadata": {},
   "outputs": [
    {
     "name": "stdout",
     "output_type": "stream",
     "text": [
      "Enter a string to check if it's a palindrome: 121\n",
      "121 is a palindrome.\n"
     ]
    }
   ],
   "source": [
    "def is_palindrome(s):\n",
    "    \n",
    "    s = s.replace(\" \", \"\").lower()\n",
    "    \n",
    "\n",
    "    return s == s[::-1]\n",
    "\n",
    "\n",
    "user_input = input(\"Enter a string to check if it's a palindrome: \")\n",
    "\n",
    "if is_palindrome(user_input):\n",
    "    print(f\"{user_input} is a palindrome.\")\n",
    "else:\n",
    "    print(f\"{user_input} is not a palindrome.\")\n",
    "\n",
    "    "
   ]
  },
  {
   "cell_type": "markdown",
   "id": "29a9410e",
   "metadata": {},
   "source": [
    "Write a Python program to get the third side of right-angled triangle from two given sides"
   ]
  },
  {
   "cell_type": "code",
   "execution_count": 4,
   "id": "760cb04e",
   "metadata": {},
   "outputs": [
    {
     "name": "stdout",
     "output_type": "stream",
     "text": [
      "Enter the length of side 'a': 25\n",
      "Enter the length of side 'b': 25\n",
      "The length of the hypotenuse is: 35.35533905932738\n"
     ]
    }
   ],
   "source": [
    "def calculate_hypotenuse(side1, side2):\n",
    "    \n",
    "    hypotenuse = (side1**2 + side2**2)**0.5\n",
    "    return hypotenuse\n",
    "\n",
    "\n",
    "side_a = float(input(\"Enter the length of side 'a': \"))\n",
    "side_b = float(input(\"Enter the length of side 'b': \"))\n",
    "\n",
    "\n",
    "hypotenuse = calculate_hypotenuse(side_a, side_b)\n",
    "\n",
    "\n",
    "print(f\"The length of the hypotenuse is: {hypotenuse}\")\n"
   ]
  },
  {
   "cell_type": "markdown",
   "id": "adce0ae0",
   "metadata": {},
   "source": [
    "Write a python program to print the frequency of each of the characters present in a given string."
   ]
  },
  {
   "cell_type": "code",
   "execution_count": 5,
   "id": "d27cf66e",
   "metadata": {},
   "outputs": [
    {
     "name": "stdout",
     "output_type": "stream",
     "text": [
      "Enter a string: SAIMOHAN SUBUDHI\n",
      "Character frequency in the given string:\n",
      "Character 'S': 2 times\n",
      "Character 'A': 2 times\n",
      "Character 'I': 2 times\n",
      "Character 'M': 1 times\n",
      "Character 'O': 1 times\n",
      "Character 'H': 2 times\n",
      "Character 'N': 1 times\n",
      "Character ' ': 1 times\n",
      "Character 'U': 2 times\n",
      "Character 'B': 1 times\n",
      "Character 'D': 1 times\n"
     ]
    }
   ],
   "source": [
    "def calculate_character_frequency(input_string):\n",
    "    \n",
    "    char_frequency = {}\n",
    "\n",
    "    \n",
    "    for char in input_string:\n",
    "        \n",
    "        char_frequency[char] = char_frequency.get(char, 0) + 1\n",
    "\n",
    "    return char_frequency\n",
    "\n",
    "user_input = input(\"Enter a string: \")\n",
    "\n",
    "frequency_dict = calculate_character_frequency(user_input)\n",
    "\n",
    "print(\"Character frequency in the given string:\")\n",
    "for char, freq in frequency_dict.items():\n",
    "    print(f\"Character '{char}': {freq} times\")\n"
   ]
  },
  {
   "cell_type": "code",
   "execution_count": null,
   "id": "4c26a43c",
   "metadata": {},
   "outputs": [],
   "source": []
  }
 ],
 "metadata": {
  "kernelspec": {
   "display_name": "Python 3 (ipykernel)",
   "language": "python",
   "name": "python3"
  },
  "language_info": {
   "codemirror_mode": {
    "name": "ipython",
    "version": 3
   },
   "file_extension": ".py",
   "mimetype": "text/x-python",
   "name": "python",
   "nbconvert_exporter": "python",
   "pygments_lexer": "ipython3",
   "version": "3.10.9"
  }
 },
 "nbformat": 4,
 "nbformat_minor": 5
}
